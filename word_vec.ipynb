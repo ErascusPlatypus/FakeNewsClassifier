{
 "cells": [
  {
   "cell_type": "code",
   "execution_count": 1,
   "metadata": {},
   "outputs": [
    {
     "name": "stdout",
     "output_type": "stream",
     "text": [
      "WARNING:tensorflow:From C:\\Users\\rvheb\\AppData\\Roaming\\Python\\Python310\\site-packages\\keras\\src\\losses.py:2976: The name tf.losses.sparse_softmax_cross_entropy is deprecated. Please use tf.compat.v1.losses.sparse_softmax_cross_entropy instead.\n",
      "\n"
     ]
    }
   ],
   "source": [
    "import collections\n",
    "import matplotlib.pyplot as plt\n",
    "import numpy as np\n",
    "import pandas as pd\n",
    "import spacy\n",
    "import tensorflow as tf\n",
    "\n",
    "from gensim.models.keyedvectors import KeyedVectors\n",
    "from sklearn.decomposition import PCA\n",
    "from sklearn.model_selection import train_test_split\n",
    "from tensorflow import keras\n",
    "from tensorflow.keras import layers"
   ]
  },
  {
   "cell_type": "code",
   "execution_count": 2,
   "metadata": {},
   "outputs": [
    {
     "data": {
      "text/html": [
       "<div>\n",
       "<style scoped>\n",
       "    .dataframe tbody tr th:only-of-type {\n",
       "        vertical-align: middle;\n",
       "    }\n",
       "\n",
       "    .dataframe tbody tr th {\n",
       "        vertical-align: top;\n",
       "    }\n",
       "\n",
       "    .dataframe thead th {\n",
       "        text-align: right;\n",
       "    }\n",
       "</style>\n",
       "<table border=\"1\" class=\"dataframe\">\n",
       "  <thead>\n",
       "    <tr style=\"text-align: right;\">\n",
       "      <th></th>\n",
       "      <th>title</th>\n",
       "      <th>text</th>\n",
       "      <th>subject</th>\n",
       "      <th>date</th>\n",
       "      <th>label</th>\n",
       "    </tr>\n",
       "  </thead>\n",
       "  <tbody>\n",
       "    <tr>\n",
       "      <th>0</th>\n",
       "      <td>Billionaire Klarman slams Trump, vows to work ...</td>\n",
       "      <td>NEW YORK (Reuters) - Billionaire hedge fund ma...</td>\n",
       "      <td>politicsNews</td>\n",
       "      <td>August 3, 2016</td>\n",
       "      <td>1</td>\n",
       "    </tr>\n",
       "    <tr>\n",
       "      <th>1</th>\n",
       "      <td>SIX FACTS ABOUT Sheriff Joe Arpaio Case That W...</td>\n",
       "      <td>Attorney Dario Navarro was one of several left...</td>\n",
       "      <td>left-news</td>\n",
       "      <td>Aug 26, 2017</td>\n",
       "      <td>0</td>\n",
       "    </tr>\n",
       "    <tr>\n",
       "      <th>2</th>\n",
       "      <td>StanChart closed accounts linked to South Afri...</td>\n",
       "      <td>LONDON (Reuters) - Standard Chartered closed s...</td>\n",
       "      <td>worldnews</td>\n",
       "      <td>October 19, 2017</td>\n",
       "      <td>1</td>\n",
       "    </tr>\n",
       "    <tr>\n",
       "      <th>3</th>\n",
       "      <td>With China in mind, Japan, India agree to deep...</td>\n",
       "      <td>GANDHINAGAR, India (Reuters) - The leaders of ...</td>\n",
       "      <td>worldnews</td>\n",
       "      <td>September 14, 2017</td>\n",
       "      <td>1</td>\n",
       "    </tr>\n",
       "    <tr>\n",
       "      <th>4</th>\n",
       "      <td>Clinton leads Trump by 5 points in Reuters/Ips...</td>\n",
       "      <td>NEW YORK (Reuters) - U.S. Democratic presiden...</td>\n",
       "      <td>politicsNews</td>\n",
       "      <td>August 26, 2016</td>\n",
       "      <td>1</td>\n",
       "    </tr>\n",
       "  </tbody>\n",
       "</table>\n",
       "</div>"
      ],
      "text/plain": [
       "                                               title  \\\n",
       "0  Billionaire Klarman slams Trump, vows to work ...   \n",
       "1  SIX FACTS ABOUT Sheriff Joe Arpaio Case That W...   \n",
       "2  StanChart closed accounts linked to South Afri...   \n",
       "3  With China in mind, Japan, India agree to deep...   \n",
       "4  Clinton leads Trump by 5 points in Reuters/Ips...   \n",
       "\n",
       "                                                text       subject  \\\n",
       "0  NEW YORK (Reuters) - Billionaire hedge fund ma...  politicsNews   \n",
       "1  Attorney Dario Navarro was one of several left...     left-news   \n",
       "2  LONDON (Reuters) - Standard Chartered closed s...     worldnews   \n",
       "3  GANDHINAGAR, India (Reuters) - The leaders of ...     worldnews   \n",
       "4   NEW YORK (Reuters) - U.S. Democratic presiden...  politicsNews   \n",
       "\n",
       "                  date  label  \n",
       "0      August 3, 2016       1  \n",
       "1         Aug 26, 2017      0  \n",
       "2    October 19, 2017       1  \n",
       "3  September 14, 2017       1  \n",
       "4     August 26, 2016       1  "
      ]
     },
     "execution_count": 2,
     "metadata": {},
     "output_type": "execute_result"
    }
   ],
   "source": [
    "fake_df = pd.read_csv('Fake.csv')\n",
    "true_df = pd.read_csv('True.csv')\n",
    "\n",
    "fake_df['label'] = 0\n",
    "true_df['label'] = 1\n",
    "\n",
    "combined_df = pd.concat([fake_df, true_df], ignore_index=True)\n",
    "combined_df = combined_df.sample(frac=1).reset_index(drop=True)\n",
    "\n",
    "combined_df.head()"
   ]
  },
  {
   "cell_type": "code",
   "execution_count": 4,
   "metadata": {},
   "outputs": [
    {
     "data": {
      "text/html": [
       "<div>\n",
       "<style scoped>\n",
       "    .dataframe tbody tr th:only-of-type {\n",
       "        vertical-align: middle;\n",
       "    }\n",
       "\n",
       "    .dataframe tbody tr th {\n",
       "        vertical-align: top;\n",
       "    }\n",
       "\n",
       "    .dataframe thead th {\n",
       "        text-align: right;\n",
       "    }\n",
       "</style>\n",
       "<table border=\"1\" class=\"dataframe\">\n",
       "  <thead>\n",
       "    <tr style=\"text-align: right;\">\n",
       "      <th></th>\n",
       "      <th>text</th>\n",
       "      <th>label</th>\n",
       "    </tr>\n",
       "  </thead>\n",
       "  <tbody>\n",
       "    <tr>\n",
       "      <th>0</th>\n",
       "      <td>NEW YORK (Reuters) - Billionaire hedge fund ma...</td>\n",
       "      <td>1</td>\n",
       "    </tr>\n",
       "    <tr>\n",
       "      <th>1</th>\n",
       "      <td>Attorney Dario Navarro was one of several left...</td>\n",
       "      <td>0</td>\n",
       "    </tr>\n",
       "    <tr>\n",
       "      <th>2</th>\n",
       "      <td>LONDON (Reuters) - Standard Chartered closed s...</td>\n",
       "      <td>1</td>\n",
       "    </tr>\n",
       "    <tr>\n",
       "      <th>3</th>\n",
       "      <td>GANDHINAGAR, India (Reuters) - The leaders of ...</td>\n",
       "      <td>1</td>\n",
       "    </tr>\n",
       "    <tr>\n",
       "      <th>4</th>\n",
       "      <td>NEW YORK (Reuters) - U.S. Democratic presiden...</td>\n",
       "      <td>1</td>\n",
       "    </tr>\n",
       "  </tbody>\n",
       "</table>\n",
       "</div>"
      ],
      "text/plain": [
       "                                                text  label\n",
       "0  NEW YORK (Reuters) - Billionaire hedge fund ma...      1\n",
       "1  Attorney Dario Navarro was one of several left...      0\n",
       "2  LONDON (Reuters) - Standard Chartered closed s...      1\n",
       "3  GANDHINAGAR, India (Reuters) - The leaders of ...      1\n",
       "4   NEW YORK (Reuters) - U.S. Democratic presiden...      1"
      ]
     },
     "execution_count": 4,
     "metadata": {},
     "output_type": "execute_result"
    }
   ],
   "source": [
    "combined_df = combined_df[['text', 'label']]\n",
    "combined_df.head()"
   ]
  },
  {
   "cell_type": "code",
   "execution_count": 5,
   "metadata": {},
   "outputs": [
    {
     "data": {
      "text/plain": [
       "(44898, 2)"
      ]
     },
     "execution_count": 5,
     "metadata": {},
     "output_type": "execute_result"
    }
   ],
   "source": [
    "combined_df.shape"
   ]
  },
  {
   "cell_type": "code",
   "execution_count": 8,
   "metadata": {},
   "outputs": [],
   "source": [
    "train_split, val_split = train_test_split(combined_df, train_size=0.8, random_state=1)"
   ]
  },
  {
   "cell_type": "code",
   "execution_count": 9,
   "metadata": {},
   "outputs": [],
   "source": [
    "train_reviews = train_split['text']\n",
    "y_train = train_split['label']\n",
    "\n",
    "val_reviews = val_split['text']\n",
    "y_val = val_split['label']"
   ]
  },
  {
   "cell_type": "code",
   "execution_count": 10,
   "metadata": {},
   "outputs": [
    {
     "data": {
      "text/plain": [
       "Counter({0: 18808, 1: 17110})"
      ]
     },
     "execution_count": 10,
     "metadata": {},
     "output_type": "execute_result"
    }
   ],
   "source": [
    "collections.Counter(y_train)"
   ]
  },
  {
   "cell_type": "code",
   "execution_count": 11,
   "metadata": {},
   "outputs": [],
   "source": [
    "tokenizer = keras.preprocessing.text.Tokenizer(num_words=20000,\n",
    "                                               filters='0123456789!\"#$%&()*+,-./:;<=>?@[\\]^_`{|}~',\n",
    "                                               lower=True)"
   ]
  },
  {
   "cell_type": "code",
   "execution_count": 12,
   "metadata": {},
   "outputs": [],
   "source": [
    "tokenizer.fit_on_texts(train_reviews)"
   ]
  },
  {
   "cell_type": "code",
   "execution_count": 14,
   "metadata": {},
   "outputs": [
    {
     "name": "stdout",
     "output_type": "stream",
     "text": [
      "[4635, 1767, 67, 4866, 339, 804, 53, 1767, 1555, 78, 25, 255, 2265, 8, 248, 43, 4419, 2, 666, 1, 111, 5, 174, 19, 880, 96, 2, 1, 1479, 3, 1, 425, 461, 32, 104, 13, 773, 2, 3637, 216, 30, 506, 5196, 262, 7010, 2859, 8, 8415, 1468, 17, 2034, 2, 10546, 16, 1, 555, 8, 851, 9149, 5264, 880, 622, 7100, 38, 19, 303, 69, 13, 157, 4, 266, 3, 129, 712, 9, 1, 4841, 3, 19, 3012, 10, 1420, 142, 2, 207, 587, 16, 104, 865, 2127, 3, 1, 1049, 6, 1, 2957, 3, 752, 2859, 8, 323, 933, 13, 5, 940, 459, 169, 1, 931, 312, 3, 1, 9149, 5264, 2171, 128, 1830, 3971, 761, 68, 2339, 27, 4, 6, 1, 8460, 2859, 5, 459, 1583, 36, 22, 824, 10, 5878, 559, 804, 52, 466, 12, 2859, 87, 1, 165, 13, 17, 24, 577, 415, 25, 4, 529, 18, 3971, 171, 4497, 14, 36, 22, 4406, 5, 7, 13, 36, 256, 1420, 323, 2, 1, 387, 708, 5, 845, 18, 4, 1315, 2, 454, 2, 964, 57, 92, 1767, 8, 2198, 9, 1, 880, 766, 1, 466, 372, 53, 10, 1, 434, 1, 165, 8546, 1, 234, 692, 27, 1, 5, 795, 2, 148, 19, 303, 7, 303, 63, 914, 4, 1952, 2, 2545, 4291, 989, 585, 157, 20, 2603, 10, 1771, 688, 80, 3302, 95, 18, 1, 3971, 104, 18508, 9, 3054, 535, 2859, 87, 95, 13, 17, 1752, 2, 1920, 119, 6, 1096, 10, 1, 1081, 5, 1, 459, 5504, 78, 6, 58, 1, 466, 919, 18, 30, 4100, 14413, 3971, 931, 248, 17, 325, 95, 1, 928, 3, 1, 266, 4540, 105, 1, 880, 766, 8, 894, 2244, 2, 4875, 1301, 8122, 1704, 4082, 5, 1201, 4, 6559, 1474, 303, 10, 1, 565, 718, 109, 1, 93, 886, 694, 880, 765, 1225, 2455, 9, 193, 2, 2545, 1, 585, 145, 41, 218, 2738, 688, 80, 4, 1306, 3092, 41, 39, 22, 4670, 5, 31, 28, 192, 453, 2, 1209, 426, 53, 1, 162, 30, 1042, 670, 26, 159, 630, 7, 694, 880, 765, 36, 381, 1, 875, 1047, 3, 1, 162, 367, 4, 428, 17, 24, 5310, 5, 479, 4974, 1004, 68, 2859, 8, 894, 3, 1, 694, 880, 1081, 2859, 85, 24, 22, 1214, 10, 412, 834, 27, 1, 97, 3, 1, 462, 433, 213, 7486, 4498, 1946, 2, 659, 1, 4499, 865, 13, 43, 2838, 1, 15402, 20, 574, 585, 196, 7101, 80, 31, 43, 453, 142, 2, 587, 489, 2, 2859, 4, 14774, 3778, 3, 765, 626, 106, 1194, 9825, 11, 880, 2859, 8, 612, 43, 44, 15403, 68, 58, 83, 957, 18, 19, 2860, 83, 43, 110, 44, 747, 3, 10800, 1, 98, 50, 85, 23, 11561, 1, 262, 3, 1, 766, 13, 17, 834, 20, 4498, 8, 1428, 505, 12, 30, 1417, 3, 2859, 60, 4498, 1612, 19, 98, 5692, 2859, 17, 192, 4810, 1, 989, 1830, 8, 162, 374, 7, 185, 2, 3394, 2265, 4, 1923, 1, 2171, 248, 43, 2, 351, 1079, 2, 1729, 3565, 10, 1, 1420, 303, 5, 49, 5282, 10, 19, 612, 2, 2545, 1, 585, 50, 43, 44, 157, 20, 4, 358, 31, 66, 943, 1140, 783, 2, 22, 4, 201, 3, 6, 2859, 8, 104, 266, 608, 9, 1352, 6, 4635, 8, 989, 708, 825, 1, 612, 732, 7, 106, 4, 429, 2207, 36, 206, 16, 78, 2, 1420, 5, 1, 1247, 36, 1023, 5, 1282, 783, 92, 102, 3448, 10, 9619, 12, 587, 3823, 9, 7, 266, 6750, 13, 4168, 2, 1, 933, 13, 43, 410, 18, 971, 6, 4, 3, 4, 72, 825, 13, 6921, 4, 654, 574, 10, 730, 995, 439, 2, 4498, 8, 6507, 3, 1, 555, 14, 17, 4101, 20, 2171, 175, 4427, 733, 50, 157, 78, 35, 361, 13, 16, 19, 829, 5, 93, 947, 27, 4, 446, 10228, 2611, 5, 3035, 16, 95, 2, 8, 1180, 2631, 880, 3225, 141, 13, 3422, 10, 2847, 109, 14034, 14775, 5113, 223, 594, 2265, 490, 1, 9948, 1654, 1, 185, 17, 24, 143, 172, 10, 1, 2748, 1325, 2171, 1923, 4498, 17, 2283, 1786, 25, 176, 1446, 169, 1064, 728, 5, 1, 86, 76, 2143, 623, 47, 309, 436, 68, 2171, 72, 2884, 296, 2859, 366, 83, 101, 7, 876, 2, 4169, 19, 1420, 1249, 82, 18, 13, 5, 339, 3, 19, 2291, 2207, 47, 370, 41, 164, 65, 4769, 8, 2348, 213, 12, 7, 55, 2859, 47, 2, 1193, 129, 1731, 6, 4769, 14, 36, 22, 24, 11752, 2, 2344, 14, 4769, 11, 52, 3, 429, 387, 76, 141, 387, 584, 75, 805, 1731, 6434, 2, 2891, 103, 318, 3506, 50, 11, 5488, 3, 2171, 1011, 4785, 13, 12, 66, 1731, 805, 43, 360, 44, 127, 32, 1049, 47, 1495, 2008, 2859, 17, 1977, 6, 4, 1344, 8, 1248, 3673, 10, 1086, 1064, 141, 13, 36, 844, 4, 2067, 2, 1420, 2, 2143, 131, 563, 4168, 19, 233, 1248, 6, 4, 702, 2573, 135, 4646, 6, 1420, 2859, 5, 1, 339, 2291, 2207, 29, 5038, 78, 65, 23, 44, 7860, 16, 425, 1432, 6654, 10, 5878, 5, 9619, 1195, 1955, 62, 2, 119, 6, 1632, 148, 6, 1767, 1036, 81, 2291, 2207, 23, 44, 3466, 3055, 30, 269, 5, 826, 1386, 10, 5878, 9619, 5, 8993, 3, 175, 1014, 2859, 21, 24, 1243, 1731, 32, 11, 27, 2675, 6, 4769, 3055, 4, 828, 9, 6751, 50, 19, 904, 21, 12, 13, 39, 2106]\n"
     ]
    }
   ],
   "source": [
    "# converting the input to a sequence of integers instead of a bag of words\n",
    "# each word is represneted by a different integer\n",
    "\n",
    "X_train = tokenizer.texts_to_sequences(train_reviews)\n",
    "print(X_train[0])"
   ]
  },
  {
   "cell_type": "code",
   "execution_count": 16,
   "metadata": {},
   "outputs": [
    {
     "data": {
      "text/plain": [
       "(['barcelona', 'spain', 'reuters', 'twenty', 'four'],\n",
       " [4635, 1767, 67, 4866, 339])"
      ]
     },
     "execution_count": 16,
     "metadata": {},
     "output_type": "execute_result"
    }
   ],
   "source": [
    "[tokenizer.index_word[x] for x in X_train[0][:5]] , X_train[0][:5]\n"
   ]
  },
  {
   "cell_type": "code",
   "execution_count": 28,
   "metadata": {},
   "outputs": [],
   "source": [
    "MAX_LEN = 250\n",
    "X_train = keras.preprocessing.sequence.pad_sequences(X_train, maxlen=MAX_LEN)"
   ]
  },
  {
   "cell_type": "code",
   "execution_count": 32,
   "metadata": {},
   "outputs": [
    {
     "name": "stdout",
     "output_type": "stream",
     "text": [
      "[    0     0     0     0     0     0     0     0     0     0     0     0\n",
      "     0     0     0     0     0     0     0     0     0     0     0     0\n",
      "     0     0     0     0     0     0     0     0     0     0     0     0\n",
      "     0     0     0     0     0     0     0     0     0     0     0     0\n",
      "     0     0  2859   366    83   101     7   876     2  4169    19  1420\n",
      "  1249    82    18    13     5   339     3    19  2291  2207    47   370\n",
      "    41   164    65  4769     8  2348   213    12     7    55  2859    47\n",
      "     2  1193   129  1731     6  4769    14    36    22    24 11752     2\n",
      "  2344    14  4769    11    52     3   429   387    76   141   387   584\n",
      "    75   805  1731  6434     2  2891   103   318  3506    50    11  5488\n",
      "     3  2171  1011  4785    13    12    66  1731   805    43   360    44\n",
      "   127    32  1049    47  1495  2008  2859    17  1977     6     4  1344\n",
      "     8  1248  3673    10  1086  1064   141    13    36   844     4  2067\n",
      "     2  1420     2  2143   131   563  4168    19   233  1248     6     4\n",
      "   702  2573   135  4646     6  1420  2859     5     1   339  2291  2207\n",
      "    29  5038    78    65    23    44  7860    16   425  1432  6654    10\n",
      "  5878     5  9619  1195  1955    62     2   119     6  1632   148     6\n",
      "  1767  1036    81  2291  2207    23    44  3466  3055    30   269     5\n",
      "   826  1386    10  5878  9619     5  8993     3   175  1014  2859    21\n",
      "    24  1243  1731    32    11    27  2675     6  4769  3055     4   828\n",
      "     9  6751    50    19   904    21    12    13    39  2106]\n"
     ]
    }
   ],
   "source": [
    "print(X_train[0])"
   ]
  },
  {
   "cell_type": "code",
   "execution_count": 33,
   "metadata": {},
   "outputs": [],
   "source": [
    "X_val = tokenizer.texts_to_sequences(val_reviews)\n",
    "X_val = keras.preprocessing.sequence.pad_sequences(X_val, maxlen=MAX_LEN)"
   ]
  },
  {
   "cell_type": "code",
   "execution_count": 36,
   "metadata": {},
   "outputs": [
    {
     "name": "stdout",
     "output_type": "stream",
     "text": [
      "4823\n"
     ]
    }
   ],
   "source": [
    "print(tokenizer.word_index['awesome'])"
   ]
  },
  {
   "cell_type": "code",
   "execution_count": 37,
   "metadata": {},
   "outputs": [],
   "source": [
    "num_tokens = len(tokenizer.word_index) + 1\n",
    "embedding_dim = 300"
   ]
  },
  {
   "cell_type": "code",
   "execution_count": 38,
   "metadata": {},
   "outputs": [
    {
     "name": "stdout",
     "output_type": "stream",
     "text": [
      "WARNING:tensorflow:From C:\\Users\\rvheb\\AppData\\Roaming\\Python\\Python310\\site-packages\\keras\\src\\backend.py:873: The name tf.get_default_graph is deprecated. Please use tf.compat.v1.get_default_graph instead.\n",
      "\n",
      "WARNING:tensorflow:From C:\\Users\\rvheb\\AppData\\Roaming\\Python\\Python310\\site-packages\\keras\\src\\optimizers\\__init__.py:309: The name tf.train.Optimizer is deprecated. Please use tf.compat.v1.train.Optimizer instead.\n",
      "\n",
      "Epoch 1/20\n",
      "WARNING:tensorflow:From C:\\Users\\rvheb\\AppData\\Roaming\\Python\\Python310\\site-packages\\keras\\src\\utils\\tf_utils.py:492: The name tf.ragged.RaggedTensorValue is deprecated. Please use tf.compat.v1.ragged.RaggedTensorValue instead.\n",
      "\n",
      "WARNING:tensorflow:From C:\\Users\\rvheb\\AppData\\Roaming\\Python\\Python310\\site-packages\\keras\\src\\engine\\base_layer_utils.py:384: The name tf.executing_eagerly_outside_functions is deprecated. Please use tf.compat.v1.executing_eagerly_outside_functions instead.\n",
      "\n",
      "71/71 [==============================] - 52s 712ms/step - loss: 0.5405 - accuracy: 0.7367 - val_loss: 0.1675 - val_accuracy: 0.9514\n",
      "Epoch 2/20\n",
      "71/71 [==============================] - 50s 704ms/step - loss: 0.0812 - accuracy: 0.9773 - val_loss: 0.0490 - val_accuracy: 0.9859\n",
      "Epoch 3/20\n",
      "71/71 [==============================] - 50s 706ms/step - loss: 0.0267 - accuracy: 0.9940 - val_loss: 0.0382 - val_accuracy: 0.9896\n",
      "Epoch 4/20\n",
      "71/71 [==============================] - 50s 698ms/step - loss: 0.0126 - accuracy: 0.9982 - val_loss: 0.0321 - val_accuracy: 0.9903\n",
      "Epoch 5/20\n",
      "71/71 [==============================] - 50s 709ms/step - loss: 0.0069 - accuracy: 0.9991 - val_loss: 0.0324 - val_accuracy: 0.9912\n",
      "Epoch 6/20\n",
      "71/71 [==============================] - 49s 697ms/step - loss: 0.0042 - accuracy: 0.9994 - val_loss: 0.0326 - val_accuracy: 0.9915\n",
      "Epoch 7/20\n",
      "71/71 [==============================] - 49s 694ms/step - loss: 0.0028 - accuracy: 0.9997 - val_loss: 0.0335 - val_accuracy: 0.9910\n"
     ]
    }
   ],
   "source": [
    "tf.random.set_seed(0)\n",
    "\n",
    "model = keras.Sequential()\n",
    "\n",
    "# The 'trainable' property is True by default.\n",
    "model.add(layers.Embedding(input_dim=num_tokens, \n",
    "                           output_dim=embedding_dim, \n",
    "                           input_length=MAX_LEN))\n",
    "\n",
    "\n",
    "model.add(layers.GlobalAveragePooling1D())\n",
    "model.add(layers.Dense(128, activation='relu', kernel_initializer=tf.keras.initializers.random_normal(seed=1)))\n",
    "model.add(layers.Dense(64, activation='relu', kernel_initializer=tf.keras.initializers.random_normal(seed=1)))\n",
    "model.add(layers.Dense(1, activation='sigmoid', kernel_initializer=tf.keras.initializers.random_normal(seed=1)))\n",
    "\n",
    "model.compile(optimizer='adam',\n",
    "              loss='binary_crossentropy',\n",
    "              metrics=['accuracy'])\n",
    "\n",
    "es_callback = keras.callbacks.EarlyStopping(monitor='val_loss', patience=3)\n",
    "history = model.fit(X_train, y_train, epochs=20, batch_size=512, validation_data=(X_val, y_val), callbacks=[es_callback])"
   ]
  },
  {
   "cell_type": "code",
   "execution_count": 39,
   "metadata": {},
   "outputs": [],
   "source": [
    "def sentiment(reviews):\n",
    "  seqs = tokenizer.texts_to_sequences(reviews)\n",
    "  seqs = keras.preprocessing.sequence.pad_sequences(seqs, maxlen=MAX_LEN)\n",
    "  return model.predict(seqs)\n"
   ]
  },
  {
   "cell_type": "code",
   "execution_count": 43,
   "metadata": {},
   "outputs": [],
   "source": [
    "fake_news = 'Scientists have discovered a massive underground city beneath the Sahara Desert, believed to be inhabited by a lost civilization that possesses advanced technology far beyond modern capabilities. This hidden metropolis, which spans hundreds of miles, is said to be powered by a mysterious energy source that can cure all known diseases and generate limitless clean energy. Archaeologists claim that this civilization has been in contact with extraterrestrial beings, who have guided them in developing technologies that defy the laws of physics. Government officials are allegedly keeping this discovery a secret to prevent global panic and protect the powerful technologies from falling into the wrong hands.'\n",
    "real_news = \"The government should publish advice for its departments on engaging with young people, including on TikTok, a group of MPs has said.\\n\\nThe culture, media and sport committee has been looking into countering disinformation online.\\n\\nIts call comes despite TikTok currently being banned on government devices due to data security concerns.\\n\\nAccurate information needs to be communicated in a \\\"relatable\\\" way, the MPs say.\\n\\nThe committee says that countering misinformation is particularly important for young people, who are increasingly turning away from traditional media and towards social media for their information.\\n\\nIt advises meeting young people \\\"where they are\\\" - with 15 to 24 year olds spending around an hour per day on TikTok, according to media regulator Ofcom.\\n\\nThe report says: \\\"The Government must have a clear strategy for communicating with young people and adapting to the development of new apps and platforms which appeal to this audience.\\\"\\n\\nSome MPs do still use TikTok, despite the fact it is blocked on the Parliament Wi-Fi network.\\n\\nDefence Secretary Grant Shapps has almost 20,000 followers, though he says he does not have the app on his personal phone.\\n\\n\\\"Grant knows that TikTok can be a valuable tool for communicating with his constituents,\\\" a source close to Mr Shapps told the BBC in September 2023.\\n\\nThe Ministry of Defence also operates a separate account which has about 17,500 followers.\\n\\nTikTok is under pressure in many countries over its links to the Chinese state - links it has always denied - with law-makers in the US recently passing legislation saying it should be sold or banned.\\n\\nIt has though endorsed the committee's findings.\\n\\n\\\"We welcome this report's recommendation that the Government should engage with the public on whatever platform they choose to use\\\", it said in a statement.\\n\\nThe government has responded to the committee report by saying it makes efforts to \\\"reach people directly on the platforms they spend the most time on.\\\"\\n\\nIt adds that the Online Safety Act, which came into law last year, \\\"will also help tackle the root cause of disinformation\\\" by requiring social media companies \\\"to swiftly remove illegal misinformation and disinformation as soon as they become aware of it.\\\"\\n\\nBut the law was criticised at the time by fact-checking service Full Fact, which said it did not go far enough \\\"to address the way that platforms treat harmful misinformation and disinformation.\\\"\\n\\nThe MPs took evidence from over 60 different people prior to publishing their report, including disinformation experts and journalists.\\n\\nAmong these were BBC journalists Rebecca Skippage and Marianna Spring.\\n\\nAlso interviewed were financial journalist Martin Lewis, Channel 4 journalist Georgina Lee and the chief executive of Full Fact Will Moy\""
   ]
  },
  {
   "cell_type": "code",
   "execution_count": 44,
   "metadata": {},
   "outputs": [
    {
     "name": "stdout",
     "output_type": "stream",
     "text": [
      "1/1 [==============================] - 0s 110ms/step\n",
      "[[0.00357881]\n",
      " [0.99795884]]\n"
     ]
    }
   ],
   "source": [
    "print(sentiment([fake_news, real_news]))"
   ]
  },
  {
   "cell_type": "code",
   "execution_count": 46,
   "metadata": {},
   "outputs": [
    {
     "name": "stdout",
     "output_type": "stream",
     "text": [
      "281/281 [==============================] - 2s 5ms/step - loss: 0.0335 - accuracy: 0.9910\n"
     ]
    },
    {
     "data": {
      "text/plain": [
       "[0.03347622603178024, 0.9909799695014954]"
      ]
     },
     "execution_count": 46,
     "metadata": {},
     "output_type": "execute_result"
    }
   ],
   "source": [
    "model.evaluate(X_val, y_val)"
   ]
  }
 ],
 "metadata": {
  "kernelspec": {
   "display_name": "Python 3",
   "language": "python",
   "name": "python3"
  },
  "language_info": {
   "codemirror_mode": {
    "name": "ipython",
    "version": 3
   },
   "file_extension": ".py",
   "mimetype": "text/x-python",
   "name": "python",
   "nbconvert_exporter": "python",
   "pygments_lexer": "ipython3",
   "version": "3.10.8"
  }
 },
 "nbformat": 4,
 "nbformat_minor": 2
}
